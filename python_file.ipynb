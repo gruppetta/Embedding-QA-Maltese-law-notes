{
 "cells": [
  {
   "cell_type": "markdown",
   "id": "8effcf94-acd9-4f4e-9731-641f65e71816",
   "metadata": {},
   "source": [
    "# Embedding + QA Maltese law notes using openai \n",
    "\n",
    "Step 1. Importing and chunking the text"
   ]
  },
  {
   "cell_type": "code",
   "execution_count": 1,
   "id": "95215f76-9733-427f-b41c-9f6122f48554",
   "metadata": {},
   "outputs": [],
   "source": [
    "import os\n",
    "import pandas as pd\n",
    "import docx\n"
   ]
  },
  {
   "cell_type": "code",
   "execution_count": 2,
   "id": "ae865c93-9f85-47bb-b032-d95357a726af",
   "metadata": {},
   "outputs": [],
   "source": [
    "def read_docx(file_path):\n",
    "    doc = docx.Document(file_path)\n",
    "    paragraphs = [p.text for p in doc.paragraphs]\n",
    "    return '\\n\\n'.join(paragraphs)"
   ]
  },
  {
   "cell_type": "code",
   "execution_count": 3,
   "id": "1d60df94-f024-4564-a933-1e3805d3f4a6",
   "metadata": {},
   "outputs": [],
   "source": [
    "def chunk_text(file_path):\n",
    "    text = read_docx(file_path)\n",
    "    \n",
    "    paragraphs = text.split('\\n\\n')  # Split text into paragraphs\n",
    "    \n",
    "    chunks = []\n",
    "    current_chunk = ''\n",
    "    overlap = []\n",
    "    \n",
    "    for paragraph in paragraphs:\n",
    "        sentences = paragraph.split('. ')  # Split paragraph into sentences\n",
    "        \n",
    "        if len(current_chunk.split()) + len(paragraph.split()) <= 500:\n",
    "            current_chunk += ' ' + ' '.join(overlap) + ' ' + paragraph\n",
    "        else:\n",
    "            chunks.append(current_chunk.strip())\n",
    "            current_chunk = ' '.join(overlap) + ' ' + paragraph\n",
    "        \n",
    "        overlap = sentences[-2:]  # Store last 2 sentences of the paragraph as overlap\n",
    "    \n",
    "    if current_chunk:\n",
    "        chunks.append(current_chunk.strip())\n",
    "    \n",
    "    return chunks"
   ]
  },
  {
   "cell_type": "code",
   "execution_count": 4,
   "id": "424024e1-d6e8-43c2-bebf-3d7b952bc27e",
   "metadata": {},
   "outputs": [],
   "source": [
    "def process_folder(folder_path):\n",
    "    file_paths = [os.path.join(folder_path, file) for file in os.listdir(folder_path) if file.endswith('.docx')]\n",
    "    data = []\n",
    "    \n",
    "    for file_path in file_paths:\n",
    "        chunks = chunk_text(file_path)\n",
    "        file_name = os.path.basename(file_path)\n",
    "        \n",
    "        for chunk in chunks:\n",
    "            data.append([file_name, chunk])\n",
    "    \n",
    "    df = pd.DataFrame(data, columns=['File Name', 'Chunk'])\n",
    "    return df"
   ]
  },
  {
   "cell_type": "code",
   "execution_count": 34,
   "id": "62e7c38e-a48f-4dac-86dc-552f7d41b16f",
   "metadata": {},
   "outputs": [],
   "source": [
    "# Usage example\n",
    "folder_path = r\"C:\\Users\\grupp\\Python Files\\0. Law LLM\\Data to embed\"\n",
    "df = process_folder(folder_path)"
   ]
  },
  {
   "cell_type": "code",
   "execution_count": 35,
   "id": "2acf9c4e-4fb9-4c77-bc95-6322fb34db36",
   "metadata": {},
   "outputs": [
    {
     "name": "stdout",
     "output_type": "stream",
     "text": [
      "  File Name                                              Chunk\n",
      "0  100.docx  100. In this sub-title \"criminal proceedings\" ...\n",
      "1  100.docx  Then the law prescribes the punishment. This o...\n",
      "2  100.docx  The law lays down certain formalities as to ho...\n",
      "3  100.docx  There is conflicting case law that says that t...\n",
      "4  100.docx  Otherwise there is no agreement between author...\n"
     ]
    }
   ],
   "source": [
    "# Display the DataFrame\n",
    "print(df.head())\n"
   ]
  },
  {
   "cell_type": "code",
   "execution_count": 47,
   "id": "9e3b59cc-d397-4300-8487-9638fa73884f",
   "metadata": {},
   "outputs": [],
   "source": [
    "df.dropna(inplace = True)"
   ]
  },
  {
   "cell_type": "code",
   "execution_count": 48,
   "id": "24255677-3ea5-49e5-bd6f-0d8441fde4d7",
   "metadata": {},
   "outputs": [
    {
     "data": {
      "text/plain": [
       "(340, 2)"
      ]
     },
     "execution_count": 48,
     "metadata": {},
     "output_type": "execute_result"
    }
   ],
   "source": [
    "df.shape"
   ]
  },
  {
   "cell_type": "code",
   "execution_count": 56,
   "id": "8756b7b5-2540-49fb-a2d2-f723b34b8d59",
   "metadata": {},
   "outputs": [],
   "source": [
    "import re\n",
    "\n",
    "def remove_special_characters(text):\n",
    "    cleaned_text = re.sub(r'[^a-zA-Z0-9\\s]', '', text)\n",
    "    return cleaned_text\n"
   ]
  },
  {
   "cell_type": "code",
   "execution_count": null,
   "id": "eeeee9bb-90e6-4131-85d6-b07414949de2",
   "metadata": {},
   "outputs": [],
   "source": []
  },
  {
   "cell_type": "markdown",
   "id": "0ed534c3-e02c-484a-b0d4-3f170b17b29e",
   "metadata": {},
   "source": [
    "# The next steps are taken from OpenAI's cookbook (embedding wikipedia articles)\n",
    "\n",
    "Step 2. Embedding the chunks"
   ]
  },
  {
   "cell_type": "code",
   "execution_count": 50,
   "id": "ad0bebd3-d629-4a72-bf81-1fa043250cab",
   "metadata": {},
   "outputs": [
    {
     "data": {
      "text/plain": [
       "0      100 In this subtitle criminal proceedings incl...\n",
       "1      Then the law prescribes the punishment This of...\n",
       "2      The law lays down certain formalities as to ho...\n",
       "3      There is conflicting case law that says that t...\n",
       "4      Otherwise there is no agreement between author...\n",
       "                             ...                        \n",
       "335    Knowledge that the victim does not consent or ...\n",
       "336    There were situations where although they were...\n",
       "337    It is surprising that the civil and continenta...\n",
       "338    Usual solution  Marital rape is excluded since...\n",
       "339    In a time when marital rape in principle was e...\n",
       "Name: Chunk, Length: 340, dtype: object"
      ]
     },
     "execution_count": 50,
     "metadata": {},
     "output_type": "execute_result"
    }
   ],
   "source": [
    "df.Chunk.astype(str)"
   ]
  },
  {
   "cell_type": "code",
   "execution_count": 8,
   "id": "54c43f0c-35aa-47a8-9a21-a196f432d59c",
   "metadata": {},
   "outputs": [],
   "source": [
    "import re"
   ]
  },
  {
   "cell_type": "code",
   "execution_count": 51,
   "id": "8e763b7a-6129-4867-bea9-edf53c2368ec",
   "metadata": {},
   "outputs": [],
   "source": [
    "def clean_section(section):\n",
    "    if isinstance(section, tuple):\n",
    "        if len(section) == 2:\n",
    "            titles, text = section\n",
    "        else:\n",
    "            titles, *text = section\n",
    "            text = ' '.join(text)\n",
    "    else:\n",
    "        text = section\n",
    "\n",
    "    try:\n",
    "       \n",
    "        # Remove special characters using regular expressions\n",
    "        text = re.sub(r\"[^\\w\\s]\", \"\", text)\n",
    "        \n",
    "        # Strip leading/trailing whitespace\n",
    "        text = text.strip()\n",
    "\n",
    "        return text\n",
    "    except Exception as e:\n",
    "        print(f\"Error cleaning section: {e}\")\n",
    "        return None"
   ]
  },
  {
   "cell_type": "code",
   "execution_count": 52,
   "id": "82431c0f-4dd3-4b82-8eb5-daca5e47b3c6",
   "metadata": {},
   "outputs": [],
   "source": [
    "df['Chunk'] = df['Chunk'].apply(clean_section)"
   ]
  },
  {
   "cell_type": "code",
   "execution_count": 53,
   "id": "7ae94462-48fc-478e-8bba-46432be7e0a1",
   "metadata": {},
   "outputs": [],
   "source": [
    "EMBEDDING_MODEL = \"text-embedding-ada-002\"\n",
    "BATCH_SIZE = 20"
   ]
  },
  {
   "cell_type": "code",
   "execution_count": 13,
   "id": "2ba0b612-69ec-40bf-abd3-50450f46b472",
   "metadata": {},
   "outputs": [],
   "source": [
    "import openai"
   ]
  },
  {
   "cell_type": "code",
   "execution_count": 96,
   "id": "06b23673-1617-4b4c-9cbb-900f0ac49286",
   "metadata": {},
   "outputs": [],
   "source": [
    "openai.api_key = \"xxxx\"  # Replace with your actual OpenAI API key\n"
   ]
  },
  {
   "cell_type": "code",
   "execution_count": 58,
   "id": "27c2377f-2584-4db0-80c9-d8e55ecd06a5",
   "metadata": {},
   "outputs": [
    {
     "name": "stdout",
     "output_type": "stream",
     "text": [
      "Batch 0 to 19\n",
      "Batch 20 to 39\n",
      "Batch 40 to 59\n",
      "Batch 60 to 79\n",
      "Batch 80 to 99\n",
      "Batch 100 to 119\n",
      "Batch 120 to 139\n",
      "Batch 140 to 159\n",
      "Error in batch 140 to 159: '$.input' is invalid. Please check the API reference: https://platform.openai.com/docs/api-reference.\n",
      "Batch 160 to 179\n",
      "Batch 180 to 199\n",
      "Batch 200 to 219\n",
      "Batch 220 to 239\n",
      "Batch 240 to 259\n",
      "Batch 260 to 279\n",
      "Batch 280 to 299\n",
      "Batch 300 to 319\n",
      "Batch 320 to 339\n"
     ]
    }
   ],
   "source": [
    "embeddings = []\n",
    "errors = []\n",
    "for batch_start in range(0, len(df['Chunk']), BATCH_SIZE):\n",
    "    batch_end = batch_start + BATCH_SIZE\n",
    "    batch = df['Chunk'][batch_start:batch_end].tolist()  # convert Series to list\n",
    "    cleaned_batch = [remove_special_characters(chunk) for chunk in batch]  # Remove special characters\n",
    "    input_data = {\"input\": cleaned_batch}\n",
    "    print(f\"Batch {batch_start} to {batch_end-1}\")\n",
    "    try:\n",
    "        response = openai.Embedding.create(model=EMBEDDING_MODEL, **input_data)\n",
    "        for i, be in enumerate(response[\"data\"]):\n",
    "            assert i == be[\"index\"]  # double check embeddings are in the same order as input\n",
    "        batch_embeddings = [e[\"embedding\"] for e in response[\"data\"]]\n",
    "        embeddings.extend(batch_embeddings)\n",
    "    except Exception as e:\n",
    "        print(f\"Error in batch {batch_start} to {batch_end-1}: {e}\")\n",
    "        errors.extend(range(batch_start, batch_end))\n",
    "        continue\n",
    "\n",
    "df = df.drop(errors)  # Remove rows with errors\n",
    "df.loc[:, 'embedding'] = embeddings\n"
   ]
  },
  {
   "cell_type": "code",
   "execution_count": 59,
   "id": "359534dd-5742-40f2-a7d2-d59274255ce4",
   "metadata": {},
   "outputs": [
    {
     "data": {
      "text/html": [
       "<div>\n",
       "<style scoped>\n",
       "    .dataframe tbody tr th:only-of-type {\n",
       "        vertical-align: middle;\n",
       "    }\n",
       "\n",
       "    .dataframe tbody tr th {\n",
       "        vertical-align: top;\n",
       "    }\n",
       "\n",
       "    .dataframe thead th {\n",
       "        text-align: right;\n",
       "    }\n",
       "</style>\n",
       "<table border=\"1\" class=\"dataframe\">\n",
       "  <thead>\n",
       "    <tr style=\"text-align: right;\">\n",
       "      <th></th>\n",
       "      <th>File Name</th>\n",
       "      <th>Chunk</th>\n",
       "      <th>embedding</th>\n",
       "    </tr>\n",
       "  </thead>\n",
       "  <tbody>\n",
       "    <tr>\n",
       "      <th>0</th>\n",
       "      <td>100.docx</td>\n",
       "      <td>100 In this subtitle criminal proceedings incl...</td>\n",
       "      <td>[0.0020429801661521196, 0.0176449753344059, -0...</td>\n",
       "    </tr>\n",
       "    <tr>\n",
       "      <th>1</th>\n",
       "      <td>100.docx</td>\n",
       "      <td>Then the law prescribes the punishment This of...</td>\n",
       "      <td>[0.003880781354382634, 0.03524026274681091, 0....</td>\n",
       "    </tr>\n",
       "    <tr>\n",
       "      <th>2</th>\n",
       "      <td>100.docx</td>\n",
       "      <td>The law lays down certain formalities as to ho...</td>\n",
       "      <td>[0.007246658205986023, 0.023993026465177536, 0...</td>\n",
       "    </tr>\n",
       "    <tr>\n",
       "      <th>3</th>\n",
       "      <td>100.docx</td>\n",
       "      <td>There is conflicting case law that says that t...</td>\n",
       "      <td>[0.0009440628928132355, 0.016755245625972748, ...</td>\n",
       "    </tr>\n",
       "    <tr>\n",
       "      <th>4</th>\n",
       "      <td>100.docx</td>\n",
       "      <td>Otherwise there is no agreement between author...</td>\n",
       "      <td>[0.0015908252680674195, -0.0016626475844532251...</td>\n",
       "    </tr>\n",
       "  </tbody>\n",
       "</table>\n",
       "</div>"
      ],
      "text/plain": [
       "  File Name                                              Chunk  \\\n",
       "0  100.docx  100 In this subtitle criminal proceedings incl...   \n",
       "1  100.docx  Then the law prescribes the punishment This of...   \n",
       "2  100.docx  The law lays down certain formalities as to ho...   \n",
       "3  100.docx  There is conflicting case law that says that t...   \n",
       "4  100.docx  Otherwise there is no agreement between author...   \n",
       "\n",
       "                                           embedding  \n",
       "0  [0.0020429801661521196, 0.0176449753344059, -0...  \n",
       "1  [0.003880781354382634, 0.03524026274681091, 0....  \n",
       "2  [0.007246658205986023, 0.023993026465177536, 0...  \n",
       "3  [0.0009440628928132355, 0.016755245625972748, ...  \n",
       "4  [0.0015908252680674195, -0.0016626475844532251...  "
      ]
     },
     "execution_count": 59,
     "metadata": {},
     "output_type": "execute_result"
    }
   ],
   "source": [
    "df.head()"
   ]
  },
  {
   "cell_type": "code",
   "execution_count": 28,
   "id": "1cb276ab-d0ab-49e9-914f-549c50aa935d",
   "metadata": {},
   "outputs": [],
   "source": [
    "from scipy import spatial  # for calculating vector similarities for search"
   ]
  },
  {
   "cell_type": "code",
   "execution_count": 60,
   "id": "2df59a28-ce88-4fa7-b758-535bb206e135",
   "metadata": {},
   "outputs": [],
   "source": [
    "# search function\n",
    "def strings_ranked_by_relatedness(\n",
    "    query: str,\n",
    "    df: pd.DataFrame,\n",
    "    relatedness_fn=lambda x, y: 1 - spatial.distance.cosine(x, y),\n",
    "    top_n: int = 100\n",
    ") -> tuple[list[str], list[float]]:\n",
    "    \"\"\"Returns a list of strings and relatednesses, sorted from most related to least.\"\"\"\n",
    "    query_embedding_response = openai.Embedding.create(\n",
    "        model=EMBEDDING_MODEL,\n",
    "        input=query,\n",
    "    )\n",
    "    query_embedding = query_embedding_response[\"data\"][0][\"embedding\"]\n",
    "    strings_and_relatednesses = [\n",
    "        (row[\"Chunk\"], relatedness_fn(query_embedding, row[\"embedding\"]))\n",
    "        for i, row in df.iterrows()\n",
    "    ]\n",
    "    strings_and_relatednesses.sort(key=lambda x: x[1], reverse=True)\n",
    "    strings, relatednesses = zip(*strings_and_relatednesses)\n",
    "    return strings[:top_n], relatednesses[:top_n]"
   ]
  },
  {
   "cell_type": "code",
   "execution_count": 94,
   "id": "347018cd-f543-4f57-a0a2-ae7ab8b2e583",
   "metadata": {
    "tags": []
   },
   "outputs": [
    {
     "name": "stdout",
     "output_type": "stream",
     "text": [
      "relatedness=0.850\n"
     ]
    },
    {
     "data": {
      "text/plain": [
       "'Criminal Intent  Mens Rea for the offence of Rape  Criminal Intent  Mens Rea for the offence of Rape  Just because in the definition of the offence of rape we find violence this is part of the material element and is not to be taken to constitute the mens rea The mens rea is a reference to the state of mind of the agent and the violence in this case refers to the passive subject As in most other definitions there is no reference to the state of mind of the agent this does not mean that no state of mind is required or that no criminal intent is required The minimum state of mind required of the agent in all criminal offences is always the generic intent consisting in will and understanding In certain definitions sometimes a special purpose besides the generic ingredient is required and this special purpose transforms the criminal intent from a generic to a specific one There is no such explicit requirement in this case  There is no such explicit requirement in this case  If notwithstanding the violence yet there is no link of cause and effect between the violence and the carnal connection obtained then the offence of rape is excluded When you do not have the link of cause and effect this means that the passive subject is consenting to the carnal connection  When you do not have the link of cause and effect this means that the passive subject is consenting to the carnal connection  Antolisei says that the violence must be the effective cause of the carnal connection obtained as a result Although Antolisei says deve in altre parole essere in realta dissententie when you take into account the circumstances which constitute presumed violence under our law they seem to imply that the passive subject need not necessarily be dissenting In UK law it is a different story as what is important is the lack of consent  to be dissenting means that you externalize and express your lack of consent You may have a lack of consent without the person necessarily externalizing it In certain instances of those circumstances eg the person is incapable of resisting because of sleep an act independent of the act of the offender it is clear that the person who is sleeping intoxicating etc cannot be said to be dissenting but there certainly is lack of consent so violence is presumed'"
      ]
     },
     "metadata": {},
     "output_type": "display_data"
    },
    {
     "name": "stdout",
     "output_type": "stream",
     "text": [
      "relatedness=0.833\n"
     ]
    },
    {
     "data": {
      "text/plain": [
       "'You must at least prove the material conduct but you must also prove that this conduct was committed by will and understanding  MANZINI goes a little further than Crivellari He agrees that what is required is the conscious and free will to do the act and the intention to cause the event but he adds that this must be done in order to deceive others as to the author or the content or tenor of the document Whilst Crivelleri stops at requiring general ingredients of criminal intent but Manzini goes further as to say that you must intent to decieve others or the content Without this special kind of intention to deceive intention is lacking Whilst Crivelleri stops at requiring general ingredients of criminal intent but Manzini goes further as to say that you must intent to decieve others or the content Without this special kind of intention to deceive intention is lacking ANTOLISEI makes a brief review of the opinions of text writers and points out that the current trend taken by Italian Courts was to the effect that in offences of forgery the criminal intent consisted in the conscious and wilful alteration of the truth There is no need to prove and intentio nocendi or an intentio decipendi He then gives us his own opinion He tells us that for the criminal intent in offences of forgery the conscious and wilful alteration of the truth was not sufficient The generic ingredients of criminal intent are not sufficient as it was also always necessary that the agent should be conscious that he is causing harm to others by damaging or endangering interests that do not belong to him Antolisei concludes that there must also be that there was an intentio nocendi He admits that this view does not simply correspond with the Italian Courts view but still maintains his position  He admits that this view does not simply correspond with the Italian Courts view but still maintains his position  OUR LAW OUR LAW One of the intrinsic aids to interpretation aids found in the law itself we mentioned how the offence is classified We make reference to how the offence is classified in order to come to some conclusion One of the intrinsic aids to interpretation aids found in the law itself we mentioned how the offence is classified We make reference to how the offence is classified in order to come to some conclusion These offences are found under Title V of the Code dealing with Crimes affecting Public Trust and are not classified as Crimes against Property under Title IX This gives us an indication as to the special purpose required for these offences'"
      ]
     },
     "metadata": {},
     "output_type": "display_data"
    },
    {
     "name": "stdout",
     "output_type": "stream",
     "text": [
      "relatedness=0.832\n"
     ]
    },
    {
     "data": {
      "text/plain": [
       "'We require criminal intent According to English Law an honest belief that one is not married even though not really proven is a defense  In our law the more reasonable approach would be to make an evaluation of the situation in terms of the requirement of the defense of mistake of fact We have to refer to the principles which underline this defense of mistake of fact ie the mistake must concern an essential fact as in belief that wife is dead and not that the wife is committing adultery The mistake must also be inevitable in the sense that it could not have been avoided by the exercise of reasonable care Smith and Hogan suggest a method in order to overcome this particular difficulty ie where the defense of mistake is raised then it would be sufficient for the accused of introducing evidence capable of raising a reasonable doubt as to the existence of the required criminal intent and then it would be up to the prosecution to persuade regarding the exclusion of the doubt Once the accused pleads mistake of fact the evidentiary burden is transferred to the accused  Once the accused pleads mistake of fact the evidentiary burden is transferred to the accused  Glanville Williams speaks of the evidentiary burden which is that burden which lies usually on the accused to introduce evidence in order to raise doubt as to whether a certain fact is proved or otherwise Once that evidence has been introduced then the persuasive burden shifts back on to the prosecution It is up to them to persuade the jury and the court to exclude that doubt This is what is considered to happen when there is a shifting of the burden of proof from the prosecution to the accused The shifting of the burden is always an evidentiary burden  The shifting of the burden is always an evidentiary burden  Doubt  plea by defense  Doubt  plea by defense  Manzini points out that doubt is neither ignorance nor mistake but amounts to knowledge since in such a situation the agent has in his mind an idea which is opposed to a belief that one is free to marry One cannot say that I believe I am free to marry as doubt means that he knows that his previous marriage may still subsist and though he also knows that he may not be free to marry In such a situation Manzini argues that this is a case of actual dolo and thus the necessary criminal intent exists  In such a situation Manzini argues that this is a case of actual dolo and thus the necessary criminal intent exists  The issue of criminal intent may be of particular difficulty and one may require more diligence to try to determine the situation in the offence of bigamy as it is a bilateral offence It requires the participation of both yet both of them may not have the necessary criminal intent'"
      ]
     },
     "metadata": {},
     "output_type": "display_data"
    },
    {
     "name": "stdout",
     "output_type": "stream",
     "text": [
      "relatedness=0.830\n"
     ]
    },
    {
     "data": {
      "text/plain": [
       "'Would this amount to a fraudulent device Would this amount to a fraudulent device   The agent has done nothing at to induce it how can it be a fraudulent device This is a mistake which has been voluntarily assumed by the passive subject There is one situation were this might develop into a fraudulent device Let us say that the agent becomes aware that the passive subject believes him to be his partner or husband and he goes along with this mistake that voluntary going along would or could amount to the fraudulent device mentioned here  Let us say that the agent becomes aware that the passive subject believes him to be his partner or husband and he goes along with this mistake that voluntary going along would or could amount to the fraudulent device mentioned here      The Mens Rea of this Offence The Mens Rea of this Offence   Dissent is not required even when the lack of consent is not required neither in the case of violence nor in that rape based on lack of consent This strengths the element of violence but  Dissent is not required even when the lack of consent is not required neither in the case of violence nor in that rape based on lack of consent This strengths the element of violence but  Manzini describes the mental element of this offence as consisting in the conscious and free will and understanding The criminal intent consist in the conscious and free will and in the intention to have a carnal connection with a person and in the will to use violence or threats for that purpose to obtain the carnal connection or in the knowledge of abusing of the special conditions laid down by law           The criminal intent consist in the conscious and free will and in the intention to have a carnal connection with a person and in the will to use violence or threats for that purpose to obtain the carnal connection or in the knowledge of abusing of the special conditions laid down by law             This is a reference to that of presumed violence he must be aware of those circumstances which give rise to presumed violence Our law depends on the jure et de jure presumption that the active subject is aware of the presumed violence  Our law depends on the jure et de jure presumption that the active subject is aware of the presumed violence    The mental element is were the agent knows or he is reckless as to the lack of consent or not  The mental element is were the agent knows or he is reckless as to the lack of consent or not    Can there be marital rape Can there be marital rape'"
      ]
     },
     "metadata": {},
     "output_type": "display_data"
    },
    {
     "name": "stdout",
     "output_type": "stream",
     "text": [
      "relatedness=0.829\n"
     ]
    },
    {
     "data": {
      "text/plain": [
       "'There is the inference that the conduct must have been done with the special intention to deceive  There is the inference that the conduct must have been done with the special intention to deceive  183 Any other person who shall commit forgery of any authentic and public instrument or of any commercial document or private bank document by counterfeiting or altering the writing or signature by feigning any fictitious agreement disposition obligation or discharge or by the insertion of any such agreement disposition obligation or discharge in any of the said instruments or documents after the formation thereof or by any addition to or alteration of any clause declaration or fact which such instruments or documents were intended to contain or prove shall on conviction be liable to imprisonment for a term from thirteen months to four years with or without solitary confinement 183 Any other person who shall commit forgery of any authentic and public instrument or of any commercial document or private bank document by counterfeiting or altering the writing or signature by feigning any fictitious agreement disposition obligation or discharge or by the insertion of any such agreement disposition obligation or discharge in any of the said instruments or documents after the formation thereof or by any addition to or alteration of any clause declaration or fact which such instruments or documents were intended to contain or prove shall on conviction be liable to imprisonment for a term from thirteen months to four years with or without solitary confinement   Article 183  falsely make or issue such declaration or certificate  not any particular intention to defraud but to show that it was committed wilfully  Article 183  falsely make or issue such declaration or certificate  not any particular intention to defraud but to show that it was committed wilfully    This is true in the large majority of cases  that the material element combined with the generic ingredients of criminal intent will lead to an inference that that was done with the intention to deceive  This is true in the large majority of cases  that the material element combined with the generic ingredients of criminal intent will lead to an inference that that was done with the intention to deceive  In principle it is true that it is generic intent which is required yet when it is coupled it will be similar to the dolus in res ipsa approach In practice this means that although a specific intention to deceive is required all the prosecution needs to prove is the material conduct in addition to the generic elements of criminal intent This will inevitably result in the specific intent to deceive as this is intrinsic in the proof of the wilful conduct combined with the generic ingredients'"
      ]
     },
     "metadata": {},
     "output_type": "display_data"
    }
   ],
   "source": [
    "# examples\n",
    "strings, relatednesses = strings_ranked_by_relatedness(\"mens rea\", df, top_n=5)\n",
    "for string, relatedness in zip(strings, relatednesses):\n",
    "    print(f\"{relatedness=:.3f}\")\n",
    "    display(string)"
   ]
  },
  {
   "cell_type": "code",
   "execution_count": 71,
   "id": "d5c6ef4c-1d86-45ea-b4e0-a3140418ba86",
   "metadata": {},
   "outputs": [],
   "source": [
    "import tiktoken"
   ]
  },
  {
   "cell_type": "code",
   "execution_count": 72,
   "id": "51949c46-9fa6-44e9-a71f-9e43ef44603b",
   "metadata": {},
   "outputs": [],
   "source": [
    "def num_tokens(text: str, model: str = GPT_MODEL) -> int:\n",
    "    \"\"\"Return the number of tokens in a string.\"\"\"\n",
    "    encoding = tiktoken.encoding_for_model(model)\n",
    "    return len(encoding.encode(text))"
   ]
  },
  {
   "cell_type": "code",
   "execution_count": 63,
   "id": "9f0aa39f-4346-4fb0-ae00-a19c4ccfb1ee",
   "metadata": {},
   "outputs": [],
   "source": [
    "def query_message(\n",
    "    query: str,\n",
    "    df: pd.DataFrame,\n",
    "    model: str,\n",
    "    token_budget: int\n",
    ") -> str:\n",
    "    \"\"\"Return a message for GPT, with relevant source texts pulled from a dataframe.\"\"\"\n",
    "    strings, relatednesses = strings_ranked_by_relatedness(query, df)\n",
    "    introduction = 'Use the below articles on the Maltese Criminal Law to answer the subsequent question. If the answer cannot be found in the articles, write \"I could not find an answer.\"'\n",
    "    question = f\"\\n\\nQuestion: {query}\"\n",
    "    message = introduction\n",
    "    for string in strings:\n",
    "        next_article = f'\\n\\nLaw Notes Section:\\n\"\"\"\\n{string}\\n\"\"\"'\n",
    "        if (\n",
    "            num_tokens(message + next_article + question, model=model)\n",
    "            > token_budget\n",
    "        ):\n",
    "            break\n",
    "        else:\n",
    "            message += next_article\n",
    "    return message + question\n"
   ]
  },
  {
   "cell_type": "code",
   "execution_count": 64,
   "id": "5b6328a9-8f91-457e-af2b-279049701f76",
   "metadata": {},
   "outputs": [],
   "source": [
    "GPT_MODEL = \"gpt-3.5-turbo\""
   ]
  },
  {
   "cell_type": "code",
   "execution_count": 67,
   "id": "eab2de5c-2624-4768-8775-cf8214ccfc4b",
   "metadata": {},
   "outputs": [],
   "source": [
    "def ask(\n",
    "    query: str,\n",
    "    df: pd.DataFrame = df,\n",
    "    model: str = GPT_MODEL,\n",
    "    token_budget: int = 4096 - 500,\n",
    "    print_message: bool = False,\n",
    ") -> str:\n",
    "    \"\"\"Answers a query using GPT and a dataframe of relevant texts and embeddings.\"\"\"\n",
    "    message = query_message(query, df, model=model, token_budget=token_budget)\n",
    "    if print_message:\n",
    "        print(message)\n",
    "    messages = [\n",
    "        {\"role\": \"system\", \"content\": \"You are an excellent law student answering questions of a law exam.\"},\n",
    "        {\"role\": \"user\", \"content\": message},\n",
    "    ]\n",
    "    response = openai.ChatCompletion.create(\n",
    "        model=model,\n",
    "        messages=messages,\n",
    "        temperature=0\n",
    "    )\n",
    "    response_message = response[\"choices\"][0][\"message\"][\"content\"]\n",
    "    return response_message"
   ]
  },
  {
   "cell_type": "markdown",
   "id": "4d29b1fa-22c3-41aa-b884-88f1e3845f1a",
   "metadata": {},
   "source": [
    "** LLB 1 Year Criminal Law ** "
   ]
  },
  {
   "cell_type": "code",
   "execution_count": 73,
   "id": "abfd66a1-4f9d-48ed-ad98-a3af139fa1a7",
   "metadata": {},
   "outputs": [
    {
     "data": {
      "text/plain": [
       "\"In Maltese Law, the general theory of criminal intent is constructed based on the building blocks of will and understanding. Will refers to the conscious and voluntary decision to commit a criminal act, while understanding refers to the knowledge and awareness of the consequences of that act.\\n\\nWill is an essential element in criminal intent as it demonstrates the deliberate choice to engage in the prohibited conduct. It requires a conscious and free decision to commit the act, showing that the individual had control over their actions and intentionally chose to engage in the criminal behavior.\\n\\nUnderstanding, on the other hand, involves the knowledge and awareness of the consequences of the act. It requires the individual to have a clear understanding of the nature and potential harm caused by their actions. This element ensures that the person committing the act is aware of the potential consequences and is therefore responsible for their actions.\\n\\nMotive, premeditation, and good faith are relevant factors in determining criminal intent in Maltese Law. Motive refers to the reason or purpose behind the criminal act. While motive alone is not sufficient to establish criminal intent, it can provide insight into the individual's state of mind and their reasons for committing the act.\\n\\nPremeditation refers to the deliberate planning or consideration of the criminal act before its execution. It demonstrates a higher level of intent and can be used as evidence to establish the accused's state of mind and their intention to commit the crime.\\n\\nGood faith, on the other hand, refers to the honest belief that one's actions are lawful or justified. It can be a defense in certain circumstances where the accused genuinely believed that their actions were legal or necessary to protect themselves or others. However, good faith alone is not enough to negate criminal intent if the accused's actions still meet the elements of the offense.\\n\\nIn summary, will and understanding are the fundamental elements of criminal intent in Maltese Law. They require a conscious and voluntary decision to commit the act and an awareness of the consequences. Motive, premeditation, and good faith are relevant factors that can provide further insight into the accused's state of mind and their intentions, but they are not determinative of criminal intent on their own.\""
      ]
     },
     "execution_count": 73,
     "metadata": {},
     "output_type": "execute_result"
    }
   ],
   "source": [
    "ask('Discusss how will and understanding are the building blocks with which the general theory of criminal intent in Maltese Law is constructed. Furthermore explain the relevance of motive, premeditation and good faith in this context. ')"
   ]
  },
  {
   "cell_type": "code",
   "execution_count": 75,
   "id": "b35ae41a-249f-4108-9f3a-40ff7b7d44a5",
   "metadata": {},
   "outputs": [
    {
     "data": {
      "text/plain": [
       "\"Under Maltese law, self-defense may be successfully pleaded as a defense against a criminal charge if certain conditions are met. The relevant articles to consider are Article 223 and Article 224 of the Maltese Criminal Code.\\n\\nArticle 223 states that not all those who act to defend themselves can invoke self-defense. In order to plead self-defense, the aggression suffered must be unjust, grave, and inevitable. This means that the person claiming self-defense must have been subjected to an unjust and serious attack that could not have been avoided or averted in any other way. If the person instead confronts the aggressor without a valid reason and participates in a physical confrontation that could have been reasonably avoided, the element of inevitability is lacking, and self-defense cannot be successfully pleaded.\\n\\nFurthermore, the act of self-defense must be proportional. This means that the person acting in self-defense cannot use more force than necessary to repel the attack. For example, if the aggressor is not using firearms, the person acting in self-defense cannot use firearms either. The use of force must be reasonable and necessary to protect oneself or others from harm.\\n\\nIn addition to these requirements, Article 224 provides specific circumstances in which self-defense may be successfully pleaded. These circumstances include:\\n\\n1. The act of self-defense is committed in the act of repelling the scaling or breaking of enclosures, walls, or entrance doors of a house or inhabited apartment during the nighttime.\\n2. The act of self-defense is committed in the act of defending against a person committing theft or plunder with violence or attempting to commit such theft or plunder.\\n3. The act of self-defense is imposed by the actual necessity of defending one's own chastity or the chastity of another person.\\n\\nIt is important to note that self-defense must be based on the subjective perception of the person claiming self-defense at the time of the confrontation. The court must place itself in the shoes of the accused and consider their mental and physical state at the time of the incident. The danger must be sudden, actual, and absolute, and the accused must have believed that there was no other means of escaping the danger.\\n\\nHowever, it is also important to highlight that self-defense does not include retaliation. Self-defense is a response to an ongoing threat, whereas retaliation is a response to a past harm. Retaliation cannot be considered justifiable legitimate self-defense under Article 223.\\n\\nIn summary, self-defense may be successfully pleaded as a defense against a criminal charge under Maltese law if the aggression suffered is unjust, grave, and inevitable, and if the act of self-defense is proportional and based on the subjective perception of the accused at the time of the incident. The specific circumstances outlined in Article 224 further clarify when self-defense may be successfully pleaded.\""
      ]
     },
     "execution_count": 75,
     "metadata": {},
     "output_type": "execute_result"
    }
   ],
   "source": [
    "ask('Expain in detail in which self-defence bay be successfully pleaded as a defence against a criminal charge under Maltese law')"
   ]
  },
  {
   "cell_type": "markdown",
   "id": "20f00937-53ca-4d30-9cb0-fac5a686284c",
   "metadata": {},
   "source": [
    "# For anyone who just want to query a dataset. It stops here, next is testing some abilities such as clustering using openai. "
   ]
  },
  {
   "cell_type": "markdown",
   "id": "cc015135-40d7-4984-950c-7c0829432f25",
   "metadata": {},
   "source": [
    "We will be stemming the text and removing stopwords to reduce the text count (costs [although costs are almost negligible])"
   ]
  },
  {
   "cell_type": "code",
   "execution_count": 78,
   "id": "70871606-7492-481c-bb8e-3186e4c7db31",
   "metadata": {},
   "outputs": [],
   "source": [
    "import numpy as np\n",
    "import pandas as pd\n",
    "from ast import literal_eval"
   ]
  },
  {
   "cell_type": "code",
   "execution_count": 81,
   "id": "6fa6084c-e270-44fd-8136-783415b611e1",
   "metadata": {
    "tags": []
   },
   "outputs": [
    {
     "data": {
      "text/plain": [
       "(320, 1536)"
      ]
     },
     "execution_count": 81,
     "metadata": {},
     "output_type": "execute_result"
    }
   ],
   "source": [
    "matrix = np.vstack(df.embedding.values)\n",
    "matrix.shape\n"
   ]
  },
  {
   "cell_type": "code",
   "execution_count": 93,
   "id": "1c7dc4c9-927a-4eda-9236-dd3cdbfb34b8",
   "metadata": {
    "tags": []
   },
   "outputs": [
    {
     "name": "stdout",
     "output_type": "stream",
     "text": [
      "Cluster 0 Theme:  Evidence LawCommon Law Topics: Authentication, Forgery, Fraud, Juridical Relevance, Public Authentic Instruments.\n",
      "criminal 9th january camilleri.docx, 9th January 2008  9th January 2008  A copy is auth\n",
      "Criminal Law - camilleri 12th december.docx, Any one of these means will be sufficient to const\n",
      "Criminal Law - camilleri.docx, Thus it is a document when it is attributed public\n",
      "Criminal Law - camilleri.docx, As long as the writing is invisible it cannot be a\n",
      "Criminal Law - camilleri.docx, There is fraud yet no forgery  One has to distingu\n",
      "Criminal Law - Tuesday 15th January 2008.docx, It must be a document which is bound to be issued \n",
      "Criminal Law - camilleri.docx, If it is not juridically relevant then the offence\n",
      "Criminal Law - camilleri.docx, The document is already a public authentic instrum\n",
      "Criminal Law - camilleri.docx, Criminal Law 14th November 2007 Wednesday  Crimina\n",
      "Criminal Law - camilleri 12th december.docx, e articles 627 to 633 and articles 635 to 637 rela\n",
      "----------------------------------------------------------------------------------------------------\n",
      "Cluster 1 Theme:  Criminal LawCommon Law Topics: Homicide, Perjury, Intent, Bodily Harm.\n",
      "Criminal Law Full Notes - Dr. Soler.docx, In the case under examination the manner in which \n",
      "100.docx, There is conflicting case law that says that this \n",
      "Criminal Law Full Notes - Dr. Soler.docx, Moreover the instigator or abettor who does not pa\n",
      "Criminal Law Full Notes - Dr. Soler.docx, This is legislated for under the parent act       \n",
      "Criminal Law Full Notes - Dr. Soler.docx, What is known as killing by perjury ie causing an \n",
      "Criminal Law Full Notes - Dr. Soler.docx, The evil threatened must also be inevitable of tha\n",
      "Criminal Law Full Notes - Dr. Soler.docx, Count Ugolino who in the tower of Pisa died becaus\n",
      "Criminal Law Full Notes - Dr. Soler.docx, Now the specific intent is not negated by the fact\n",
      "Criminal Law Full Notes - Dr. Soler.docx, There must be the taking away of a human life  Suc\n",
      "Criminal Law Full Notes - Dr. Soler.docx, a Where the homicide or bodily harm is committed i\n",
      "----------------------------------------------------------------------------------------------------\n",
      "Cluster 2 Theme:  Civil LawCommon Law Topics: Contract Law, Criminal Law, European Law, Evidence Law, Administrative Law.\n",
      "Semester 2 - 22.04.08 Prostitution.docx, If you suffer something to be done and permit it t\n",
      "100.docx, 100 In this subtitle criminal proceedings includes\n",
      "Criminal 2 - pack 2 (chief).docx, Relevant subsid leg which implemented the european\n",
      "Criminal 1- pack 1 (caruana).docx, 4 Nothing in subarticle 3 of this article shall pr\n",
      "Criminal 1 - pack 2 (caruana).docx, What is not stated by the law the courts will supp\n",
      "Semester 2 - 29.04.08.docx, The court have held that a vehicle van in a public\n",
      "Criminal 1 - pack 2 (caruana).docx, 2nd Module  2nd Module  The examination of the for\n",
      "Criminal 1- pack 1 (caruana).docx, The adjudicator hears all issues which come before\n",
      "100.docx, The problem here is that in these systems if the p\n",
      "Criminal 2 - pack 2 (chief).docx, Provisio to all previous subarticles  in favour of\n",
      "----------------------------------------------------------------------------------------------------\n",
      "Cluster 3 Theme:  Criminal LawCommon Law Topics: Bigamy, Sexual Offences, Theft, Punishment.\n",
      "Criminal Law Full Notes - Dr. Soler.docx, In relation to the charges contemplate by 248A2ab \n",
      "Criminal Law 2 - Dr. S Camilleri .docx, This is something that has to be made on a case by\n",
      "Semester 2 - 30.04.08 Bigamy.docx, BIGAMY  BIGAMY  196 A husband or wife who during t\n",
      "Wednesday Lecture 4 (20.02.08) Marital Rape.docx, It is surprising that the civil and continental ju\n",
      "27.02.08.docx, 27th February  27th February  Sexual Offences  the\n",
      "Criminal Law 2 - Dr. S Camilleri .docx, In Our Law The offence is called rape or carnal kn\n",
      "Criminal Law Full Notes - Dr. Soler.docx, Y testified that she had come to Malta to work as \n",
      "Tuesday (04.03.08).docx, This is similar to the offence of theft furtum usu\n",
      "Criminal 1 - pack 2 (caruana).docx, When the legis prom the offence of theft the leg p\n",
      "Semester 2 (08.04.08) Camilleri Tuesday (Lec 1 after Easter).docx, The punishment is increased from three to six year\n",
      "----------------------------------------------------------------------------------------------------\n",
      "Cluster 4 Theme:  Contract LawCluster 1: Offer, Acceptance, ConsiderationCluster 2: Capacity, Legality, Breach of Contract\n",
      "----------------------------------------------------------------------------------------------------\n",
      "Cluster 5 Theme:  Contract LawCluster 1: Offer, Acceptance, ConsiderationCluster 2: Capacity, Legality, Breach of Contract\n",
      "----------------------------------------------------------------------------------------------------\n",
      "Cluster 6 Theme:  Contract LawCluster 1: Offer, Acceptance, ConsiderationCluster 2: Capacity, Legality, Breach of Contract\n",
      "----------------------------------------------------------------------------------------------------\n",
      "Cluster 7 Theme:  Contract LawCluster 1: Offer, Acceptance, ConsiderationCluster 2: Capacity, Legality, Breach of Contract\n",
      "----------------------------------------------------------------------------------------------------\n",
      "Cluster 8 Theme:  Contract LawCluster 1: Offer, Acceptance, ConsiderationCluster 2: Capacity, Legality, Breach of Contract\n",
      "----------------------------------------------------------------------------------------------------\n",
      "Cluster 9 Theme:  Contract LawCluster 1: Offer, Acceptance, ConsiderationCluster 2: Capacity, Legality, Breach of Contract\n",
      "----------------------------------------------------------------------------------------------------\n"
     ]
    }
   ],
   "source": [
    "import openai\n",
    "\n",
    "# Reading a review which belongs to each group.\n",
    "n_clusters = 10\n",
    "rev_per_cluster = 10\n",
    "sample_text_length = 50\n",
    "\n",
    "for i in range(n_clusters):\n",
    "    print(f\"Cluster {i} Theme:\", end=\" \")\n",
    "    \n",
    "    cluster_df = df[df.Cluster == i]\n",
    "    cluster_sample = cluster_df.sample(min(rev_per_cluster, len(cluster_df)), random_state=42)\n",
    "    \n",
    "    reviews = \"\\n\".join(\n",
    "        cluster_sample[\"Chunk\"]\n",
    "        .str[:sample_text_length]\n",
    "        .values\n",
    "    )\n",
    "    response = openai.Completion.create(\n",
    "        engine=\"text-davinci-003\",\n",
    "        prompt=f'What do the following Law notes have in common? Name the common Law topics for each cluster \\n\\nLaw notes:\\n\"\"\"\\n{reviews}\\n\"\"\"\\n\\nTheme:',\n",
    "        temperature=0,\n",
    "        max_tokens=64,\n",
    "        top_p=1,\n",
    "        frequency_penalty=0,\n",
    "        presence_penalty=0,\n",
    "    )\n",
    "    print(response[\"choices\"][0][\"text\"].replace(\"\\n\", \"\"))\n",
    "    \n",
    "    for index, row in cluster_sample.iterrows():\n",
    "        print(row[\"File Name\"], end=\", \")  # Replace \"File Name\" with the correct column name\n",
    "        print(row[\"Chunk\"][:sample_text_length])  # Replace \"Chunk\" with the correct column name\n",
    "    \n",
    "    print(\"-\" * 100)\n"
   ]
  },
  {
   "cell_type": "markdown",
   "id": "a957b0d9-3e51-4fbd-ad6d-430d5d274a3c",
   "metadata": {},
   "source": [
    "Not quite as interesting as would have liked "
   ]
  },
  {
   "cell_type": "code",
   "execution_count": 89,
   "id": "39597b00-0a0b-4177-8ea2-62232e37e0bb",
   "metadata": {},
   "outputs": [
    {
     "data": {
      "text/plain": [
       "Index(['File Name', 'Chunk', 'embedding', 'Cluster'], dtype='object')"
      ]
     },
     "execution_count": 89,
     "metadata": {},
     "output_type": "execute_result"
    }
   ],
   "source": [
    "df.columns"
   ]
  },
  {
   "cell_type": "code",
   "execution_count": null,
   "id": "e87bc3ef-75e0-4508-91b4-7747054c85c8",
   "metadata": {},
   "outputs": [],
   "source": []
  },
  {
   "cell_type": "code",
   "execution_count": null,
   "id": "67cbd040-8861-47de-9eae-aaf3980a7c38",
   "metadata": {},
   "outputs": [],
   "source": []
  },
  {
   "cell_type": "code",
   "execution_count": null,
   "id": "9017b98b-bfa6-4c94-a968-493181b73056",
   "metadata": {},
   "outputs": [],
   "source": []
  },
  {
   "cell_type": "code",
   "execution_count": null,
   "id": "af2d3031-b072-4334-84c3-7b918a042ecf",
   "metadata": {},
   "outputs": [],
   "source": []
  },
  {
   "cell_type": "code",
   "execution_count": null,
   "id": "87caf274-1f56-4c6d-a39c-8ec82bb430f9",
   "metadata": {},
   "outputs": [],
   "source": []
  },
  {
   "cell_type": "code",
   "execution_count": null,
   "id": "54acc2c1-66f5-4cec-a937-242e28737b90",
   "metadata": {},
   "outputs": [],
   "source": []
  },
  {
   "cell_type": "code",
   "execution_count": null,
   "id": "889b9b55-d66d-4b51-9fb4-1a63ba3dedeb",
   "metadata": {},
   "outputs": [],
   "source": []
  },
  {
   "cell_type": "code",
   "execution_count": null,
   "id": "27ce5e7a-e52a-4ffd-adb8-ec8fa01075e6",
   "metadata": {},
   "outputs": [],
   "source": []
  },
  {
   "cell_type": "code",
   "execution_count": null,
   "id": "f4c9591c-98c1-4c3d-a113-26d820a72f9f",
   "metadata": {},
   "outputs": [],
   "source": []
  },
  {
   "cell_type": "code",
   "execution_count": null,
   "id": "f49dfb68-fdde-40bc-9a44-32789b40ae5e",
   "metadata": {},
   "outputs": [],
   "source": []
  },
  {
   "cell_type": "code",
   "execution_count": null,
   "id": "f04e7b41-5aa6-462f-9180-c6573fdbc2fc",
   "metadata": {},
   "outputs": [],
   "source": []
  },
  {
   "cell_type": "code",
   "execution_count": null,
   "id": "4dccbb89-88e1-438c-88aa-66ade1686e33",
   "metadata": {},
   "outputs": [],
   "source": []
  },
  {
   "cell_type": "markdown",
   "id": "773ec7e1-ff2b-419b-a91e-a06710132311",
   "metadata": {},
   "source": []
  }
 ],
 "metadata": {
  "kernelspec": {
   "display_name": "Python 3 (ipykernel)",
   "language": "python",
   "name": "python3"
  },
  "language_info": {
   "codemirror_mode": {
    "name": "ipython",
    "version": 3
   },
   "file_extension": ".py",
   "mimetype": "text/x-python",
   "name": "python",
   "nbconvert_exporter": "python",
   "pygments_lexer": "ipython3",
   "version": "3.10.9"
  }
 },
 "nbformat": 4,
 "nbformat_minor": 5
}
